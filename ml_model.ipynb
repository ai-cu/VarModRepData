{
 "cells": [
  {
   "cell_type": "code",
   "execution_count": 1,
   "metadata": {},
   "outputs": [],
   "source": [
    "constellation = {}\n",
    "constellation_cmplx_numbers = {}\n",
    "\n",
    "values = [-7, -5, -3, -1, 1, 3, 5, 7]  # Possible values for I and Q components\n",
    "bit_combinations = [(i, j, k, l, m, n) for i in [0, 1] for j in [0, 1] for k in [0, 1] for l in [0, 1] for m in [0, 1] for n in [0, 1]]\n",
    "\n",
    "for i, combination in enumerate(bit_combinations):\n",
    "    I = values[i // 8]  # Integer division to cycle through I values\n",
    "    Q = values[i % 8]   # Modulus to cycle through Q values\n",
    "    constellation[combination] = complex(I, Q)\n",
    "\n",
    "ctr = 0\n",
    "for k in constellation:\n",
    "    constellation_cmplx_numbers[constellation[k]] = ctr\n",
    "    ctr += 1\n",
    "\n",
    "def cmplx_symb_to_number(symbols):\n",
    "    out = []\n",
    "    for smb in symbols:\n",
    "        out.append(constellation_cmplx_numbers[smb])\n",
    "    return out\n",
    "        "
   ]
  },
  {
   "cell_type": "code",
   "execution_count": 2,
   "metadata": {},
   "outputs": [],
   "source": [
    "import cv2\n",
    "import numpy as np\n",
    "import processor as pr\n",
    "\n",
    "def read_video(vid_path):\n",
    "    vid_symbols = []\n",
    "    cap = cv2.VideoCapture(vid_path)\n",
    "    if not cap.isOpened():\n",
    "        print(\"ERROR: READING VIDEO\")\n",
    "    while cap.isOpened():\n",
    "        ret, frame = cap.read(cv2.IMREAD_GRAYSCALE)\n",
    "        if len(vid_symbols) > 200: \n",
    "            break\n",
    "        if ret:\n",
    "            resized_frame = cv2.resize(frame, (128, 96))\n",
    "            binary_data = np.unpackbits(resized_frame)\n",
    "            vid_symbols.append(pr.qam64_modulation(binary_data))\n",
    "\n",
    "        else:\n",
    "            break\n",
    "    \n",
    "    cap.release()\n",
    "    cv2.destroyAllWindows()\n",
    "    return vid_symbols"
   ]
  },
  {
   "cell_type": "code",
   "execution_count": 3,
   "metadata": {},
   "outputs": [
    {
     "name": "stdout",
     "output_type": "stream",
     "text": [
      "done\n",
      "done\n",
      "done woohoo data\n"
     ]
    }
   ],
   "source": [
    "vid1 = read_video(\"./data/vids/train1.mp4\")\n",
    "vid2 = read_video(\"./data/vids/train2.mp4\")\n",
    "vid3 = read_video(\"./data/vids/train3.mp4\")\n",
    "vid4 = read_video(\"./data/vids/train4.mp4\")\n",
    "print(\"done\")\n",
    "\n",
    "val1 = read_video(\"./data/vids/validate1.mp4\")\n",
    "val2 = read_video(\"./data/vids/validate2.mp4\")\n",
    "print(\"done\")\n",
    "\n",
    "test1 = read_video(\"./data/vids/test1.mp4\")\n",
    "test2 = read_video(\"./data/vids/test2.mp4\")\n",
    "print(\"done woohoo data\")"
   ]
  },
  {
   "cell_type": "code",
   "execution_count": null,
   "metadata": {},
   "outputs": [],
   "source": [
    "def build_symbol_np_array(images):\n",
    "    total_X = np.empty((12, 49152, 1))\n",
    "    for img in images:\n",
    "        result_array = []\n",
    "        for symb in img:\n",
    "            x, y = symb.real, symb.imag\n",
    "            result_array.extend([x, y])\n",
    "        total_X.append(np.array(result_array))\n",
    "    return np.array(total_X)\n",
    "        "
   ]
  },
  {
   "cell_type": "code",
   "execution_count": 19,
   "metadata": {},
   "outputs": [],
   "source": [
    "def data_list(imgs):\n",
    "    collector = np.empty((3, 49152, 1))\n",
    "    ct_1 = 0\n",
    "    for img in imgs:\n",
    "        img_data = np.empty((49152, 1))\n",
    "        ct_2 = 0\n",
    "        for symbol in img:\n",
    "            img_data[ct_2] = [constellation_cmplx_numbers[symbol]]\n",
    "            ct_2 += 1\n",
    "        collector[ct_1] = img_data\n",
    "        ct_1 += 1\n",
    "    return collector\n"
   ]
  },
  {
   "cell_type": "code",
   "execution_count": 22,
   "metadata": {},
   "outputs": [],
   "source": [
    "#Creating the training dataset\n",
    "#each data block looks like this [[symbol 1, symbol 2, symbol 3, ...], [...], [...], ...]\n",
    "train_data_X = np.empty((792, 3, 49152, 1))\n",
    "train_data_Y = np.empty((792, 49152, 1))\n",
    "data_index = 0\n",
    "for i in range(3, len(vid1)):\n",
    "    train_data_X[data_index] = data_list(vid1[i - 3:i])\n",
    "    train_data_Y[data_index] = data_list([vid1[i]])[0]\n",
    "    data_index+=1\n",
    "\n",
    "    train_data_X[data_index] = data_list(vid2[i - 3:i])\n",
    "    train_data_Y[data_index] = data_list([vid2[i]])[0]\n",
    "    data_index+=1\n",
    "\n",
    "    train_data_X[data_index] = data_list(vid3[i - 3:i])\n",
    "    train_data_Y[data_index] = data_list([vid3[i]])[0]\n",
    "    data_index+=1\n",
    "    #data_list([vid3[i]])[0]\n",
    "\n",
    "    train_data_X[data_index] = data_list(vid4[i - 3:i])\n",
    "    train_data_Y[data_index] = data_list([vid4[i]])[0]\n",
    "    data_index+=1"
   ]
  },
  {
   "cell_type": "code",
   "execution_count": 28,
   "metadata": {},
   "outputs": [
    {
     "name": "stdout",
     "output_type": "stream",
     "text": [
      "(792, 3, 49152, 1)\n",
      "(792, 49152, 1)\n"
     ]
    }
   ],
   "source": [
    "print(np.shape(train_data_X))\n",
    "print(np.shape(train_data_Y))"
   ]
  },
  {
   "cell_type": "markdown",
   "metadata": {},
   "source": []
  },
  {
   "cell_type": "code",
   "execution_count": 24,
   "metadata": {},
   "outputs": [],
   "source": [
    "val__data_index = 0\n",
    "val_data_X = np.empty((302, 3, 49152, 1))\n",
    "val_data_Y = np.empty((302, 49152, 1))\n",
    "for i in range(3, len(val1)):\n",
    "    if val__data_index > 300:\n",
    "        break\n",
    "    val_data_X[val__data_index] = data_list(val1[i - 3:i])\n",
    "    val_data_Y[val__data_index] = data_list([val1[i]])[0]\n",
    "    val__data_index+=1\n",
    "\n",
    "    val_data_X[val__data_index] = data_list(val2[i - 3:i])\n",
    "    val_data_Y[val__data_index] = data_list([val2[i]])[0]\n",
    "    val__data_index+=1"
   ]
  },
  {
   "cell_type": "code",
   "execution_count": null,
   "metadata": {},
   "outputs": [],
   "source": [
    "print(np.shape(val_data_X))\n",
    "print(np.shape(val_data_Y))"
   ]
  },
  {
   "cell_type": "code",
   "execution_count": null,
   "metadata": {},
   "outputs": [],
   "source": [
    "del(vid1, vid2, vid3, vid4, val1, val2)"
   ]
  },
  {
   "cell_type": "code",
   "execution_count": null,
   "metadata": {},
   "outputs": [],
   "source": [
    "test_data_index = 0\n",
    "test_data_X = np.empty((302, 3, 49152))\n",
    "test_data_Y = np.empty((302, 49152))\n",
    "for i in range(3, len(test1)):\n",
    "    if test_data_index > 300:\n",
    "        break\n",
    "    test_data_X[test_data_index, :] = data_list(test1[i - 3:i])\n",
    "    test_data_Y[test_data_index] = data_list([test1[i]])[0]\n",
    "    test_data_index+=1\n",
    "\n",
    "    test_data_X[test_data_index, :] = data_list(test2[i - 3:i])\n",
    "    test_data_Y[test_data_index] = data_list([test2[i]])[0]\n",
    "    test_data_index+=1"
   ]
  },
  {
   "cell_type": "code",
   "execution_count": null,
   "metadata": {},
   "outputs": [],
   "source": [
    "print(test_data_X)"
   ]
  },
  {
   "cell_type": "code",
   "execution_count": null,
   "metadata": {},
   "outputs": [],
   "source": [
    "#Simple RNN\n",
    "import tensorflow as tf\n",
    "from tensorflow.keras.models import Sequential\n",
    "from tensorflow.keras.layers import SimpleRNN, Dense, LSTM\n",
    "\n",
    "# Define the model\n",
    "model = Sequential([\n",
    "    # SimpleRNN layer with 256 units\n",
    "    SimpleRNN(256, input_shape=(12, 49152), return_sequences = True, activation='relu'),\n",
    "    \n",
    "    # You can add more SimpleRNN layers if needed, setting return_sequences=True in the previous layers\n",
    "    SimpleRNN(128, return_sequences=False, activation='relu'),\n",
    "    \n",
    "    # Final Dense layer to output 125 symbols\n",
    "    Dense(49152, activation='linear')  # 'linear' activation for regression-like tasks\n",
    "])\n",
    "\n",
    "# Compile the model\n",
    "model.compile(optimizer='adam', loss='mse')  # Mean Squared Error for regression-like tasks"
   ]
  },
  {
   "cell_type": "code",
   "execution_count": 25,
   "metadata": {},
   "outputs": [],
   "source": [
    "from tensorflow.keras.models import Sequential\n",
    "from tensorflow.keras.layers import LSTM, Dense, TimeDistributed, Reshape\n",
    "\n",
    "# Input shape parameters\n",
    "num_images = 3\n",
    "num_symbols_per_image = 49152\n",
    "\n",
    "model = Sequential()\n",
    "\n",
    "# Reshape input to flatten the symbols in each image while keeping the image sequence\n",
    "model.add(Reshape((num_images, -1), input_shape=(num_images, num_symbols_per_image, 1)))\n",
    "\n",
    "# LSTM layer to process the sequence of images\n",
    "# You might need to adjust the number of units\n",
    "model.add(LSTM(256, return_sequences=True))\n",
    "\n",
    "model.add(LSTM(256, return_sequences=True))\n",
    "\n",
    "model.add(LSTM(256, return_sequences=False))\n",
    "\n",
    "# Output layer: since the output is a single image represented as 49152 symbols,\n",
    "# and each symbol is one of 64 classes, use TimeDistributed with Dense 64\n",
    "model.add(Dense(num_symbols_per_image * 64))\n",
    "model.add(Reshape((num_symbols_per_image, 64)))\n",
    "\n",
    "model.add(TimeDistributed(Dense(64, activation='softmax')))\n",
    "\n",
    "# Compile the model\n",
    "model.compile(optimizer='adam', loss='sparse_categorical_crossentropy', metrics=['accuracy'])"
   ]
  },
  {
   "cell_type": "code",
   "execution_count": 33,
   "metadata": {},
   "outputs": [],
   "source": [
    "train_data_X_res = np.transpose(np.squeeze(train_data_X, axis=-1), (0, 2, 1))\n",
    "train_data_Y_res = np.squeeze(train_data_Y, axis=-1)\n",
    "\n",
    "val_data_X_res = np.transpose(np.squeeze(val_data_X, axis=-1), (0, 2, 1))\n",
    "val_data_Y_res = np.squeeze(val_data_Y, axis=-1)\n"
   ]
  },
  {
   "cell_type": "code",
   "execution_count": 29,
   "metadata": {},
   "outputs": [],
   "source": [
    "from tensorflow.keras.models import Sequential\n",
    "from tensorflow.keras.layers import Conv1D, MaxPooling1D, LSTM, Dense\n",
    "\n",
    "# Model parameters\n",
    "num_filters = 32      # Number of convolutional filters\n",
    "kernel_size = 3       # Size of the convolutional kernel\n",
    "pool_size = 2         # Size of the pooling window\n",
    "lstm_units = 128      # Number of units in the LSTM layer\n",
    "\n",
    "model = Sequential()\n",
    "\n",
    "# 1D Convolutional layers\n",
    "model.add(Conv1D(filters=num_filters, kernel_size=kernel_size, activation='relu', input_shape=(49152, 3)))\n",
    "model.add(MaxPooling1D(pool_size=pool_size))\n",
    "\n",
    "# Optional: more Conv1D layers\n",
    "# model.add(Conv1D(filters=num_filters, kernel_size=kernel_size, activation='relu'))\n",
    "# model.add(MaxPooling1D(pool_size=pool_size))\n",
    "\n",
    "# LSTM layer\n",
    "# Before adding LSTM layer, you might need to flatten or reshape depending on your data and the preceding layers\n",
    "model.add(LSTM(lstm_units))\n",
    "\n",
    "# Output layer: Adjust the units and activation according to your problem\n",
    "model.add(Dense(49152 * 64))\n",
    "model.add(Reshape((49152, 64)))\n",
    "\n",
    "model.add(TimeDistributed(Dense(64, activation='softmax')))\n",
    "\n",
    "# Compile the model\n",
    "model.compile(optimizer='adam', loss='sparse_categorical_crossentropy', metrics=['accuracy'])"
   ]
  },
  {
   "cell_type": "code",
   "execution_count": 40,
   "metadata": {},
   "outputs": [
    {
     "name": "stdout",
     "output_type": "stream",
     "text": [
      "Epoch 1/5\n",
      "13/13 [==============================] - 552s 41s/step - loss: 1.6503 - accuracy: 0.4621 - val_loss: 6.3106 - val_accuracy: 0.0622\n",
      "Epoch 2/5\n",
      "13/13 [==============================] - 487s 38s/step - loss: 1.6336 - accuracy: 0.4674 - val_loss: 6.2277 - val_accuracy: 0.0625\n",
      "Epoch 3/5\n",
      "13/13 [==============================] - 567s 44s/step - loss: 1.6184 - accuracy: 0.4715 - val_loss: 6.4142 - val_accuracy: 0.0622\n",
      "Epoch 4/5\n",
      "13/13 [==============================] - 549s 42s/step - loss: 1.6009 - accuracy: 0.4774 - val_loss: 6.0294 - val_accuracy: 0.0629\n",
      "Epoch 5/5\n",
      "13/13 [==============================] - 594s 46s/step - loss: 1.5880 - accuracy: 0.4809 - val_loss: 6.2921 - val_accuracy: 0.0625\n"
     ]
    },
    {
     "ename": "NameError",
     "evalue": "name 'test_data_X' is not defined",
     "output_type": "error",
     "traceback": [
      "\u001b[0;31m---------------------------------------------------------------------------\u001b[0m",
      "\u001b[0;31mNameError\u001b[0m                                 Traceback (most recent call last)",
      "Cell \u001b[0;32mIn[40], line 3\u001b[0m\n\u001b[1;32m      1\u001b[0m history \u001b[38;5;241m=\u001b[39m model\u001b[38;5;241m.\u001b[39mfit(train_data_X_res, train_data_Y_res, epochs\u001b[38;5;241m=\u001b[39m\u001b[38;5;241m5\u001b[39m, batch_size\u001b[38;5;241m=\u001b[39m\u001b[38;5;241m64\u001b[39m, validation_data\u001b[38;5;241m=\u001b[39m(val_data_X_res, val_data_Y_res))\n\u001b[0;32m----> 3\u001b[0m test_loss \u001b[38;5;241m=\u001b[39m model\u001b[38;5;241m.\u001b[39mevaluate(\u001b[43mtest_data_X\u001b[49m, test_data_Y)\n",
      "\u001b[0;31mNameError\u001b[0m: name 'test_data_X' is not defined"
     ]
    }
   ],
   "source": [
    "history = model.fit(train_data_X_res, train_data_Y_res, epochs=5, batch_size=64, validation_data=(val_data_X_res, val_data_Y_res))\n",
    "\n",
    "test_loss = model.evaluate(test_data_X, test_data_Y)"
   ]
  },
  {
   "cell_type": "code",
   "execution_count": null,
   "metadata": {},
   "outputs": [],
   "source": [
    "data = train_data_X[622]\n",
    "data = data.reshape(1, 12, 49152)\n",
    "print(np.shape(data))\n",
    "model.predict(data)"
   ]
  },
  {
   "cell_type": "code",
   "execution_count": 39,
   "metadata": {},
   "outputs": [],
   "source": [
    "model.save(\"fancy_layer.keras\")"
   ]
  },
  {
   "cell_type": "code",
   "execution_count": 6,
   "metadata": {},
   "outputs": [],
   "source": [
    "import tensorflow as tf\n",
    "model = tf.keras.models.load_model(\"3_layer_RNN1.keras\")"
   ]
  },
  {
   "cell_type": "code",
   "execution_count": null,
   "metadata": {},
   "outputs": [],
   "source": [
    "img_np_data = np.empty((1, 12, 49152))\n",
    "img_np_data[0, :] = data_list(test1[0:12])\n",
    "x  = model.predict(img_np_data)\n",
    "round(26.5)\n"
   ]
  },
  {
   "cell_type": "code",
   "execution_count": null,
   "metadata": {},
   "outputs": [],
   "source": [
    "print(test1[11])"
   ]
  },
  {
   "cell_type": "code",
   "execution_count": 41,
   "metadata": {},
   "outputs": [
    {
     "ename": "ValueError",
     "evalue": "in user code:\n\n    File \"/Users/andriiiermolaiev/Library/Python/3.9/lib/python/site-packages/keras/src/engine/training.py\", line 2440, in predict_function  *\n        return step_function(self, iterator)\n    File \"/Users/andriiiermolaiev/Library/Python/3.9/lib/python/site-packages/keras/src/engine/training.py\", line 2425, in step_function  **\n        outputs = model.distribute_strategy.run(run_step, args=(data,))\n    File \"/Users/andriiiermolaiev/Library/Python/3.9/lib/python/site-packages/keras/src/engine/training.py\", line 2413, in run_step  **\n        outputs = model.predict_step(data)\n    File \"/Users/andriiiermolaiev/Library/Python/3.9/lib/python/site-packages/keras/src/engine/training.py\", line 2381, in predict_step\n        return self(x, training=False)\n    File \"/Users/andriiiermolaiev/Library/Python/3.9/lib/python/site-packages/keras/src/utils/traceback_utils.py\", line 70, in error_handler\n        raise e.with_traceback(filtered_tb) from None\n    File \"/Users/andriiiermolaiev/Library/Python/3.9/lib/python/site-packages/keras/src/engine/input_spec.py\", line 298, in assert_input_compatibility\n        raise ValueError(\n\n    ValueError: Input 0 of layer \"sequential_3\" is incompatible with the layer: expected shape=(None, 49152, 3), found shape=(None, 3, 49152, 1)\n",
     "output_type": "error",
     "traceback": [
      "\u001b[0;31m---------------------------------------------------------------------------\u001b[0m",
      "\u001b[0;31mValueError\u001b[0m                                Traceback (most recent call last)",
      "Cell \u001b[0;32mIn[41], line 33\u001b[0m\n\u001b[1;32m     31\u001b[0m img_np_data \u001b[38;5;241m=\u001b[39m np\u001b[38;5;241m.\u001b[39mempty((\u001b[38;5;241m1\u001b[39m, \u001b[38;5;241m3\u001b[39m, \u001b[38;5;241m49152\u001b[39m, \u001b[38;5;241m1\u001b[39m))\n\u001b[1;32m     32\u001b[0m img_np_data[\u001b[38;5;241m0\u001b[39m, :] \u001b[38;5;241m=\u001b[39m data_list(vid1[i \u001b[38;5;241m-\u001b[39m \u001b[38;5;241m3\u001b[39m:i])\n\u001b[0;32m---> 33\u001b[0m ml_pred \u001b[38;5;241m=\u001b[39m \u001b[43mmodel\u001b[49m\u001b[38;5;241;43m.\u001b[39;49m\u001b[43mpredict\u001b[49m\u001b[43m(\u001b[49m\u001b[43mimg_np_data\u001b[49m\u001b[43m)\u001b[49m\n\u001b[1;32m     34\u001b[0m ml_decoding \u001b[38;5;241m=\u001b[39m pr\u001b[38;5;241m.\u001b[39mprocess_ML_model_pred(img, np\u001b[38;5;241m.\u001b[39margmax(ml_pred, axis\u001b[38;5;241m=\u001b[39m\u001b[38;5;241m-\u001b[39m\u001b[38;5;241m1\u001b[39m), qam64_const)\n\u001b[1;32m     36\u001b[0m \u001b[38;5;66;03m#compare different demodulations\u001b[39;00m\n",
      "File \u001b[0;32m~/Library/Python/3.9/lib/python/site-packages/keras/src/utils/traceback_utils.py:70\u001b[0m, in \u001b[0;36mfilter_traceback.<locals>.error_handler\u001b[0;34m(*args, **kwargs)\u001b[0m\n\u001b[1;32m     67\u001b[0m     filtered_tb \u001b[39m=\u001b[39m _process_traceback_frames(e\u001b[39m.\u001b[39m__traceback__)\n\u001b[1;32m     68\u001b[0m     \u001b[39m# To get the full stack trace, call:\u001b[39;00m\n\u001b[1;32m     69\u001b[0m     \u001b[39m# `tf.debugging.disable_traceback_filtering()`\u001b[39;00m\n\u001b[0;32m---> 70\u001b[0m     \u001b[39mraise\u001b[39;00m e\u001b[39m.\u001b[39mwith_traceback(filtered_tb) \u001b[39mfrom\u001b[39;00m \u001b[39mNone\u001b[39;00m\n\u001b[1;32m     71\u001b[0m \u001b[39mfinally\u001b[39;00m:\n\u001b[1;32m     72\u001b[0m     \u001b[39mdel\u001b[39;00m filtered_tb\n",
      "File \u001b[0;32m/var/folders/xq/jxsy6ltn2hldrcbz79yps89w0000gn/T/__autograph_generated_filed1kqfxol.py:15\u001b[0m, in \u001b[0;36mouter_factory.<locals>.inner_factory.<locals>.tf__predict_function\u001b[0;34m(iterator)\u001b[0m\n\u001b[1;32m     13\u001b[0m \u001b[39mtry\u001b[39;00m:\n\u001b[1;32m     14\u001b[0m     do_return \u001b[39m=\u001b[39m \u001b[39mTrue\u001b[39;00m\n\u001b[0;32m---> 15\u001b[0m     retval_ \u001b[39m=\u001b[39m ag__\u001b[39m.\u001b[39mconverted_call(ag__\u001b[39m.\u001b[39mld(step_function), (ag__\u001b[39m.\u001b[39mld(\u001b[39mself\u001b[39m), ag__\u001b[39m.\u001b[39mld(iterator)), \u001b[39mNone\u001b[39;00m, fscope)\n\u001b[1;32m     16\u001b[0m \u001b[39mexcept\u001b[39;00m:\n\u001b[1;32m     17\u001b[0m     do_return \u001b[39m=\u001b[39m \u001b[39mFalse\u001b[39;00m\n",
      "\u001b[0;31mValueError\u001b[0m: in user code:\n\n    File \"/Users/andriiiermolaiev/Library/Python/3.9/lib/python/site-packages/keras/src/engine/training.py\", line 2440, in predict_function  *\n        return step_function(self, iterator)\n    File \"/Users/andriiiermolaiev/Library/Python/3.9/lib/python/site-packages/keras/src/engine/training.py\", line 2425, in step_function  **\n        outputs = model.distribute_strategy.run(run_step, args=(data,))\n    File \"/Users/andriiiermolaiev/Library/Python/3.9/lib/python/site-packages/keras/src/engine/training.py\", line 2413, in run_step  **\n        outputs = model.predict_step(data)\n    File \"/Users/andriiiermolaiev/Library/Python/3.9/lib/python/site-packages/keras/src/engine/training.py\", line 2381, in predict_step\n        return self(x, training=False)\n    File \"/Users/andriiiermolaiev/Library/Python/3.9/lib/python/site-packages/keras/src/utils/traceback_utils.py\", line 70, in error_handler\n        raise e.with_traceback(filtered_tb) from None\n    File \"/Users/andriiiermolaiev/Library/Python/3.9/lib/python/site-packages/keras/src/engine/input_spec.py\", line 298, in assert_input_compatibility\n        raise ValueError(\n\n    ValueError: Input 0 of layer \"sequential_3\" is incompatible with the layer: expected shape=(None, 49152, 3), found shape=(None, 3, 49152, 1)\n"
     ]
    }
   ],
   "source": [
    "# Now do the data parsing and test accuracy vs stat methods\n",
    "# We will use test 1 that we used for testing. \n",
    "import stat_model as stm\n",
    "import processor as pr\n",
    "import importlib\n",
    "\n",
    "importlib.reload(stm)\n",
    "importlib.reload(pr)\n",
    "\n",
    "expected_LRU = vid1[2]\n",
    "expected_PROB = vid1[2]\n",
    "qam64_const = list(constellation.values())\n",
    "\n",
    "ct = 0\n",
    "no_total = 0\n",
    "LRU_total = 0\n",
    "PROB_total = 0\n",
    "ml_total = 0\n",
    "\n",
    "for i in range(3, len(vid1)):\n",
    "    img = pr.add_noise(vid1[i], 15)\n",
    "    actual_image = stm.process_simple(vid1[i], qam64_const)\n",
    "    #process with no tools\n",
    "    no_processing_decoding = stm.process_simple(img, qam64_const)\n",
    "    \n",
    "    #process with stat_models\n",
    "    expected_LRU, LRU_decoding = stm.process_QPSK_image_stream_LRU(img, expected_LRU, qam64_const)\n",
    "    expected_PROB, PROB_decoding = stm.process_QPSK_image_stream_PROB(img, expected_PROB, qam64_const, 0.5)\n",
    "\n",
    "    #process with ML model\n",
    "    img_np_data = np.empty((1, 3, 49152, 1))\n",
    "    img_np_data[0, :] = data_list(vid1[i - 3:i])\n",
    "    \n",
    "    ml_pred = model.predict(img_np_data)\n",
    "    ml_decoding = pr.process_ML_model_pred(img, np.argmax(ml_pred, axis=-1), qam64_const)\n",
    "\n",
    "    #compare different demodulations\n",
    "    no_total += pr.symbol_stream_diff(actual_image, no_processing_decoding)\n",
    "    LRU_total += pr.symbol_stream_diff(actual_image, LRU_decoding)\n",
    "    PROB_total += pr.symbol_stream_diff(actual_image, PROB_decoding)\n",
    "    ml_total += pr.symbol_stream_diff(actual_image, ml_decoding)\n",
    "    ct+=1\n",
    "\n",
    "print(no_total/ct)\n",
    "print(LRU_total/ct)\n",
    "print(PROB_total/ct)\n",
    "print(ml_total/ct)\n",
    "    "
   ]
  }
 ],
 "metadata": {
  "kernelspec": {
   "display_name": "Python 3.9.6 64-bit",
   "language": "python",
   "name": "python3"
  },
  "language_info": {
   "codemirror_mode": {
    "name": "ipython",
    "version": 3
   },
   "file_extension": ".py",
   "mimetype": "text/x-python",
   "name": "python",
   "nbconvert_exporter": "python",
   "pygments_lexer": "ipython3",
   "version": "3.9.6"
  },
  "orig_nbformat": 4,
  "vscode": {
   "interpreter": {
    "hash": "31f2aee4e71d21fbe5cf8b01ff0e069b9275f58929596ceb00d14d90e3e16cd6"
   }
  }
 },
 "nbformat": 4,
 "nbformat_minor": 2
}
