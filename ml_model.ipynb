{
 "cells": [
  {
   "cell_type": "code",
   "execution_count": 17,
   "metadata": {},
   "outputs": [],
   "source": [
    "import cv2\n",
    "import numpy as np\n",
    "import processor as pr\n",
    "\n",
    "def read_video(vid_path):\n",
    "    vid_symbols = []\n",
    "    cap = cv2.VideoCapture(vid_path)\n",
    "    if not cap.isOpened():\n",
    "        print(\"ERROR: READING VIDEO\")\n",
    "    while cap.isOpened():\n",
    "        ret, frame = cap.read(cv2.IMREAD_GRAYSCALE)\n",
    "        if ret:\n",
    "            resized_frame = cv2.resize(frame, (640, 480))\n",
    "            binary_data = np.unpackbits(resized_frame)\n",
    "            vid_symbols.append(pr.qam4_modulation(binary_data))\n",
    "\n",
    "        else:\n",
    "            break\n",
    "    \n",
    "    cap.release()\n",
    "    cv2.destroyAllWindows()\n",
    "    return vid_symbols"
   ]
  },
  {
   "cell_type": "code",
   "execution_count": 19,
   "metadata": {},
   "outputs": [
    {
     "ename": "KeyboardInterrupt",
     "evalue": "",
     "output_type": "error",
     "traceback": [
      "\u001b[0;31m---------------------------------------------------------------------------\u001b[0m",
      "\u001b[0;31mKeyboardInterrupt\u001b[0m                         Traceback (most recent call last)",
      "Cell \u001b[0;32mIn[19], line 1\u001b[0m\n\u001b[0;32m----> 1\u001b[0m vid1 \u001b[38;5;241m=\u001b[39m \u001b[43mread_video\u001b[49m\u001b[43m(\u001b[49m\u001b[38;5;124;43m\"\u001b[39;49m\u001b[38;5;124;43m./data/vids/train1.mp4\u001b[39;49m\u001b[38;5;124;43m\"\u001b[39;49m\u001b[43m)\u001b[49m\n\u001b[1;32m      2\u001b[0m vid2 \u001b[38;5;241m=\u001b[39m read_video(\u001b[38;5;124m\"\u001b[39m\u001b[38;5;124m./data/vids/train2.mp4\u001b[39m\u001b[38;5;124m\"\u001b[39m)\n\u001b[1;32m      3\u001b[0m vid3 \u001b[38;5;241m=\u001b[39m read_video(\u001b[38;5;124m\"\u001b[39m\u001b[38;5;124m./data/vids/train3.mp4\u001b[39m\u001b[38;5;124m\"\u001b[39m)\n",
      "Cell \u001b[0;32mIn[17], line 15\u001b[0m, in \u001b[0;36mread_video\u001b[0;34m(vid_path)\u001b[0m\n\u001b[1;32m     13\u001b[0m     resized_frame \u001b[38;5;241m=\u001b[39m cv2\u001b[38;5;241m.\u001b[39mresize(frame, (\u001b[38;5;241m640\u001b[39m, \u001b[38;5;241m480\u001b[39m))\n\u001b[1;32m     14\u001b[0m     binary_data \u001b[38;5;241m=\u001b[39m np\u001b[38;5;241m.\u001b[39munpackbits(resized_frame)\n\u001b[0;32m---> 15\u001b[0m     vid_symbols\u001b[38;5;241m.\u001b[39mappend(\u001b[43mpr\u001b[49m\u001b[38;5;241;43m.\u001b[39;49m\u001b[43mqam4_modulation\u001b[49m\u001b[43m(\u001b[49m\u001b[43mbinary_data\u001b[49m\u001b[43m)\u001b[49m)\n\u001b[1;32m     17\u001b[0m \u001b[38;5;28;01melse\u001b[39;00m:\n\u001b[1;32m     18\u001b[0m     \u001b[38;5;28;01mbreak\u001b[39;00m\n",
      "File \u001b[0;32m~/Code/VarModRepData/processor.py:31\u001b[0m, in \u001b[0;36mqam4_modulation\u001b[0;34m(binary_data)\u001b[0m\n\u001b[1;32m     28\u001b[0m bit_chunks \u001b[39m=\u001b[39m [binary_data[i:i\u001b[39m+\u001b[39m\u001b[39m2\u001b[39m] \u001b[39mfor\u001b[39;00m i \u001b[39min\u001b[39;00m \u001b[39mrange\u001b[39m(\u001b[39m0\u001b[39m, \u001b[39mlen\u001b[39m(binary_data), \u001b[39m2\u001b[39m)]\n\u001b[1;32m     30\u001b[0m \u001b[39m# Map each chunk to a constellation point\u001b[39;00m\n\u001b[0;32m---> 31\u001b[0m symbols \u001b[39m=\u001b[39m [constellation[\u001b[39mtuple\u001b[39m(chunk)] \u001b[39mfor\u001b[39;00m chunk \u001b[39min\u001b[39;00m bit_chunks]\n\u001b[1;32m     33\u001b[0m \u001b[39mreturn\u001b[39;00m symbols\n",
      "File \u001b[0;32m~/Code/VarModRepData/processor.py:31\u001b[0m, in \u001b[0;36m<listcomp>\u001b[0;34m(.0)\u001b[0m\n\u001b[1;32m     28\u001b[0m bit_chunks \u001b[39m=\u001b[39m [binary_data[i:i\u001b[39m+\u001b[39m\u001b[39m2\u001b[39m] \u001b[39mfor\u001b[39;00m i \u001b[39min\u001b[39;00m \u001b[39mrange\u001b[39m(\u001b[39m0\u001b[39m, \u001b[39mlen\u001b[39m(binary_data), \u001b[39m2\u001b[39m)]\n\u001b[1;32m     30\u001b[0m \u001b[39m# Map each chunk to a constellation point\u001b[39;00m\n\u001b[0;32m---> 31\u001b[0m symbols \u001b[39m=\u001b[39m [constellation[\u001b[39mtuple\u001b[39;49m(chunk)] \u001b[39mfor\u001b[39;00m chunk \u001b[39min\u001b[39;00m bit_chunks]\n\u001b[1;32m     33\u001b[0m \u001b[39mreturn\u001b[39;00m symbols\n",
      "\u001b[0;31mKeyboardInterrupt\u001b[0m: "
     ]
    }
   ],
   "source": [
    "vid1 = read_video(\"./data/vids/train1.mp4\")\n",
    "vid2 = read_video(\"./data/vids/train2.mp4\")\n",
    "vid3 = read_video(\"./data/vids/train3.mp4\")\n",
    "vid4 = read_video(\"./data/vids/train4.mp4\")\n",
    "\n",
    "val1 = read_video(\"./data/vids/validate1.mp4\")\n",
    "val2 = read_video(\"./data/vids/validate2.mp4\")\n",
    "\n",
    "test1 = read_video(\"./data/vids/test1.mp4\")\n",
    "test2 = read_video(\"./data/vids/test2.mp4\")"
   ]
  },
  {
   "cell_type": "code",
   "execution_count": null,
   "metadata": {},
   "outputs": [],
   "source": [
    "#Creating the training dataset\n"
   ]
  },
  {
   "cell_type": "code",
   "execution_count": null,
   "metadata": {},
   "outputs": [],
   "source": [
    "#Simple RNN"
   ]
  }
 ],
 "metadata": {
  "kernelspec": {
   "display_name": "Python 3.9.6 64-bit",
   "language": "python",
   "name": "python3"
  },
  "language_info": {
   "codemirror_mode": {
    "name": "ipython",
    "version": 3
   },
   "file_extension": ".py",
   "mimetype": "text/x-python",
   "name": "python",
   "nbconvert_exporter": "python",
   "pygments_lexer": "ipython3",
   "version": "3.9.6"
  },
  "orig_nbformat": 4,
  "vscode": {
   "interpreter": {
    "hash": "31f2aee4e71d21fbe5cf8b01ff0e069b9275f58929596ceb00d14d90e3e16cd6"
   }
  }
 },
 "nbformat": 4,
 "nbformat_minor": 2
}
